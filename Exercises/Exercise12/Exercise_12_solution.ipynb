{
 "cells": [
  {
   "cell_type": "markdown",
   "metadata": {},
   "source": [
    "# Solution to exercise 12: PumPy: A minimal model that has it all\n",
    "Running the simulations to solve exercise 12 took time, but was rather trivial, and only involved changing the stimulus amplitude and switching on/off the ion pumps. The solutions are therefore only presented in text-form:\n",
    "\n",
    "\n",
    "## Task 1: How high firing rate can a neuron maintain?\n",
    "__a)__ When the cell receives no stimulus, the membrane potential rapidly settles at a resting potential of about - 66.75 mV (panel A below), and concentrations (sodium shown as example in panel B below) remain constant in time. The reason why the potential takes some time to reach equilibrium is simply that the initial condition in the simulation was not set identical to the resting potential of the model.\n",
    "\n",
    "<img src=\"solfig_flat.png\" width=\"800\">\n",
    "\n",
    "__b)__ When receiving a weak (15 pA) stimulus, PumPy goes into regular AP firing (panel A below).\n",
    "\n",
    "The funny AP shapes (panel B below) are due to an intricate ping-pong effect, where the soma fires an AP, which propagates to the dendrite, and there triggers a calcium-spike which propagates back to the soma and \"drags out\" the duration of the AP. It is seen in some hippocampal cells, and is a property of the original Pinsky-Rinzel model. You can read more about it in Steratt chapter 8.1.2. \n",
    "\n",
    "If we study the ion concentrations (potassium used as an example in panel C below), we see that they do change a little during the simulation. However, the changes go in one direction during an AP (due to active ion fluxes), and in the opposite direction between APs (due to the pumps), so that the two effects almost balance each others out. If the firing rate is sufficiently low, the neuron will reach a dynamic steady state where the ion concentrations do not escape over time, but always remain very close to baseline. \n",
    "\n",
    "<img src=\"solfig_reg.png\" width=\"1000\">\n",
    "\n",
    "\n",
    "__c)__ As expected, a stronger (45 pA) input gives PumPy a higher AP firing rate. However, after a while PumPy gets grumpy. It stops firing and gets stuck at some depolarized potential of about - 30 mV (panel A below). A hint to what is going on can be seen in panel B, which shows the voltage dynamics in a small time window around where the AP firing terminates. It shows the neuron firing faster and faster, but with gradually decreasing amplitudes. The reason for the increased firing rate is that there, throughout the simulation, takes place a gradual increase in the neuronal reversal potentials and its resting potential, i.e. it slowly moves towards a more depolarized and excited level. The firing stops when the depolarization becomes so high that PumPy is incapable of repolarizing after an AP, i.e., it can not get back below the AP firing threshold, and can thus not generate any new APs. \n",
    "\n",
    "The reason for the change in reversal potentials is that, unlike in __b__, the neuron now fires so fast that the pump fails in restoring the basal concentrations. This is because the time between two APs is too short to pump back the ions that crosses the membrane during an AP. For that reason, ion concentrations, and thus reversal potentials, gradually change over time.\n",
    "\n",
    "<img src=\"solfig_hf.png\" width=\"800\">\n",
    "\n",
    "\n",
    "\n",
    "\n",
    "## Task 2: The wave of death.\n",
    "\n",
    "__a)__ In the Figure below, the ion pumps were turned off (```pumps_on = 0```), and the model was run for 200 s receiving no stimlus. Here's what happened: \n",
    "\n",
    "* The simulation started by the neuron firing a single action potential. The reason why this could happen in the absence of a stimulus is that the pumps are not electroneutral, i.e., they do carry some electrical currents. Removing the pumps thus lead to a change in the initial voltage dynamics of the model, and somehow that resulted in the firing of an AP. Never mind this initial AP. Let us rather focus on the more interesting point of this simulation, which is what happened next.\n",
    "\n",
    "* After the initial AP, we observe a slow and gradual increase in the membrane potential for about 25 seconds. This coincides with a slow and gradual change in the ion concentrations due to leakage over the now pumpless membrane. The examples in the Figure, whoq that sodium was leaking into the cell and potassium was leaking out from the cell, and we might expect this journey to go on until concentrations were equalized and the same everywhere (but see __b)__ below). Along with these changes in concentrations, the ionic reversal potentials, and thus the membrane potential of the neuron was changing (if concentrations were to be completely equalized, the membrane potential would end up at 0). \n",
    "\n",
    "* After this 25 s period of leaking, the neuronal membrane potential reached the firing threshold, and the active channels kicked in, using what was left of the concentration gradients to fire action potentials. This resulted in a burst of activity. We may envision that if a lot of neurons were present, and they all elicited such bursts of activity at approximately the same time, it would correspond to this wave of death that were seen in the EEG in the aforementioned experiments. \n",
    "\n",
    "* During the bursts of activity, ion concentrations changed even faster, since ions now were rushing out not only through the leak-channels, but also through the active ion channels. As a consequence, the (\"resting\") membrane potential would be further depolarized to levels that made the neuron uncapable to repolarize after an action potential. That is, it was no longer able to repolarize to voltages below the AP-threshold, and thus not able to elicit any further APs. After this, the neuron went in to a second period of more rapid leakage, as the leakage now occurred through both the passive and active channels. \n",
    "\n",
    "<img src=\"solfig_wod.png\" width=\"800\">\n",
    "\n",
    "__b)__ We might intuitively expect that after the \"wave of death\", the cell would go on leaking until the concentrations became the same everywhere. As the selected plots indicate, this is not the case. For example, sodium went on leaking until there was more of it on the inside, while potassium seemed to stabilize when there was about a 40 mM difference between the inside and outside concentrations. The explanation to why we do not get a complete equilibriation is the static, residual charges, defined in the code as:\n",
    "\n",
    "```\n",
    "k_res_si0 = Cl_si0 - Na_si0 - K_si0 - 2*Ca_si0 + res_i\n",
    "\n",
    "```\n",
    "\n",
    "These represent charges that are stuck on the inside and outside of the membrane. Such charges are present in real cells, typically in the form of large, negatively charged proteins that can not cross the membrane. These are primarilly found in the intracellular space of neurons, meaning that the (dead) neuron will end up at about - 20 mV (and not zero) in the final equilibrium state. This final equilibrium condition is called the Donnan-equilibrium. We did not talk about it in the course, but if you are interested you can read about it on Wikipedia: https://en.wikipedia.org/wiki/Gibbs%E2%80%93Donnan_effect"
   ]
  },
  {
   "cell_type": "code",
   "execution_count": null,
   "metadata": {
    "scrolled": true
   },
   "outputs": [],
   "source": []
  },
  {
   "cell_type": "code",
   "execution_count": null,
   "metadata": {},
   "outputs": [],
   "source": []
  }
 ],
 "metadata": {
  "kernelspec": {
   "display_name": "Python 3 (ipykernel)",
   "language": "python",
   "name": "python3"
  },
  "language_info": {
   "codemirror_mode": {
    "name": "ipython",
    "version": 3
   },
   "file_extension": ".py",
   "mimetype": "text/x-python",
   "name": "python",
   "nbconvert_exporter": "python",
   "pygments_lexer": "ipython3",
   "version": "3.9.7"
  }
 },
 "nbformat": 4,
 "nbformat_minor": 2
}
