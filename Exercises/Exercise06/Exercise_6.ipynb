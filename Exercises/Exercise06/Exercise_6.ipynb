{
 "cells": [
  {
   "cell_type": "markdown",
   "metadata": {},
   "source": [
    "# Exercise 6: T-type Ca²⁺-channels\n",
    "\n",
    "In this exercise, you will explore the properties of an ion-channel type called T-type Ca²⁺ channels \n",
    "(hereby called T-channels). T-channels can generate so called Ca²⁺-spikes, which in turn may lead to bursts \n",
    "of action potentials such as that seen in Fig. 1A. You will start out with a model of a thalamic interneuron developed by Allken et al. 2014 (PLoS ONE 30;9:e107780), a neuron type which is known to elicit such T-channel mediated bursts. You can develop this model further to solve the exercise. The model contains:\n",
    "\n",
    "* A detailed morphology (Fig. 1B).\n",
    "* Three types of ion channels: Na⁺ and K⁺ channels for action-potential generation, and T-channels.\n",
    "* A synapse inserted in the soma, activated at $t=$ 60 ms (you need to adjust its weight).\n",
    "* A figure that plots the membrane potential at 4 different locations (soma + 3 locations along a selected dendritic branch, as denoted by the stars in Fig. 1B), as well as the synaptic input current."
   ]
  },
  {
   "cell_type": "markdown",
   "metadata": {},
   "source": [
    "<img src=\"Figure.png\" width = \"600\">\n",
    "__Figure 1:__ Thalamic interneuron firing a burst of action potentials. __A:__ In an experiment, a brief (10 ms), strong (0.25 nA) current injection to the soma evoked the following qualitative response features: (1) Under control conditions, the neuron responded with a burst containing a few APs (top). (2) When Na⁺-channels were blocked, the APs were eliminated (middle, black line), and the Ca²⁺-spike (bump) underlying the burst was revealed. (3) When T-channels were blocked, a passive response could be observed (grey line). __B:__ Morphology of a thalamic interneuron."
   ]
  },
  {
   "cell_type": "markdown",
   "metadata": {},
   "source": [
    "## 1) Soma response\n",
    "You will now verify that the model qualitatively reproduces the \"experiment\" in Fig. 1A, focusing for now only on the soma-response. For simplicity, you can use the synapse as input instead of the square current injection.\n",
    "\n",
    "__a)__ Increase the synaptic weight until you obtain a response similar to that in the top trace in Fig. 1A, i.e., the response should be a burst containing 5 action potentials.  \n",
    "\n",
    "__b)__ Confirm that the model gives you responses similar to that in Fig. 1A (middle trace) if you block (1) only sodium channels and (2) both sodium and calcium channels. \n",
    "\n",
    "__c)__ Was the resting membrane potential the same in __a)__ and __b)__? Comment on the result! Note: The easiest way to explore the resting potential is probably to turn off the synapse. \n",
    "\n",
    "\n",
    "## 2) Dendritic signalling\n",
    "In part 2 of the exercise, you will study how signals propagate from the soma to the distal dendrites and vice versa.\n",
    "\n",
    "__a)__ In the simulations you ran in part 1 of the exercise, describe how different aspects of the somatically evoked response changed during its propagation through the dendrite. Compare the propagation of the action potentials with the propagation of the Ca²⁺-spike (bump), and comment on the results.\n",
    "\n",
    "__b)__ Move the synapse from the soma to the distal dendrite. Describe how the synaptic response changes during its propagation towards the soma.\n",
    "\n",
    "__c)__ Compare the cases in a) and b). In which direction is it easiest for a signal to travel? \n",
    "\n",
    "\n",
    "## 3) How does the distribution of T-channels affect the neural response properties?\n",
    "A neuron's T-channel mediated response does not only depend on the total amount of T-channels that it possesses, but also on how these are distributed over the somatodendritic membrane. Experiments have been inconclusive regarding how T-channels are distributed in INs. One experiment indicated a uniform distribution (Parajuli et al. 2010, J Comp Neurol, 518(21):4362–4374) like the one we have considered so far in this exercise. However, another experiment indicated that the T-channel density increases with distance from soma (Munsch et al., 1997, Neuroreport, 8(11):2411–2418). In this exercise you will perform a simplified version of that project.\n",
    "You will now compare these two distributions.\n",
    "\n",
    "__a)__ Change the distribution of T-channels, so that the T-channel density increases linearly with distance ($d$) from the soma:\n",
    "$$\n",
    "g_{CaT}(d) = \\beta \\cdot (1+0.04d), \\qquad (1)\n",
    "$$\n",
    "where $d$ is inserted with units of $\\mu m$, and $\\beta = 0.1054 \\cdot 10^{-4}$ is a normalization constant that ensures that the distribution in Eq. (1) gives the same total number of T-channels as our previous (uniform) distribution. P.s.: In the example code, the command _h.distance()_ sets the soma compartment as the reference point for distance measures. In other segments, use the command _h.distance(seg.x,sec=sec)_ to obtain the distance between the reference point (soma) and the the relevant segment.\n",
    "\n",
    "__b)__ Repeat the simulations in exercise 1 and 2 using the new T-channel distribution. Determine which of the two distributions (_uniform_ versus _linearly increasing with distance_) that facilitates the following response properties:\n",
    "* The somatic response to somatic current injections.\n",
    "* The response in distal dendrites to somatic current injections.\n",
    "* The response in the soma to synaptic input in a distal dendrite."
   ]
  },
  {
   "cell_type": "code",
   "execution_count": 1,
   "metadata": {},
   "outputs": [
    {
     "name": "stdout",
     "output_type": "stream",
     "text": [
      "Current working directory /Users/geih/Dropbox/Min Mac (Geirs-MacBook-Pro-2.local)/Documents/Undervisning/Exercises_Fys388_2019/Exercise06\n",
      "/usr/bin/xcrun\n",
      "/Users/geih/Dropbox/Min Mac (Geirs-MacBook-Pro-2.local)/Documents/Undervisning/Exercises_Fys388_2019/Exercise06/halnes\n",
      "-n Mod files:\n",
      "-n  \"./Cad.mod\"\n",
      "-n  \"./HH_traub.mod\"\n",
      "-n  \"./it2.mod\"\n",
      "\n",
      "\n",
      "COBJS=''\n",
      " -> \u001b[32mCompiling\u001b[0m mod_func.c\n",
      "x86_64-apple-darwin13.4.0-clang -g  -O2 -march=core2 -mtune=haswell -mssse3 -ftree-vectorize -fPIC -fPIE -fstack-protector-strong -O2 -pipe -isystem /Users/geih/opt/anaconda3/envs/lfpy/include -fdebug-prefix-map=/Users/runner/miniforge3/conda-bld/neuron_1621594984609/work=/usr/local/src/conda/neuron-8.0.0 -fdebug-prefix-map=/Users/geih/opt/anaconda3/envs/lfpy=/usr/local/src/conda-prefix  -I.   -I/Users/geih/opt/anaconda3/envs/lfpy/include  -I/Users/geih/opt/anaconda3/envs/lfpy/include -fPIC -c mod_func.c -o mod_func.o\n",
      " => \u001b[32mLINKING\u001b[0m shared library ./libnrnmech.dylib\n",
      "x86_64-apple-darwin13.4.0-clang++ -g  -O2 -march=core2 -mtune=haswell -mssse3 -ftree-vectorize -fPIC -fPIE -fstack-protector-strong -O2 -pipe -stdlib=libc++ -fvisibility-inlines-hidden -std=c++14 -fmessage-length=0 -isystem /Users/geih/opt/anaconda3/envs/lfpy/include -fdebug-prefix-map=/Users/runner/miniforge3/conda-bld/neuron_1621594984609/work=/usr/local/src/conda/neuron-8.0.0 -fdebug-prefix-map=/Users/geih/opt/anaconda3/envs/lfpy=/usr/local/src/conda-prefix -std=c++11 -dynamiclib -Wl,-headerpad_max_install_names -undefined dynamic_lookup -fPIC -Wl,-pie -Wl,-headerpad_max_install_names  -Wl,-rpath,/Users/geih/opt/anaconda3/envs/lfpy/lib -L/Users/geih/opt/anaconda3/envs/lfpy/lib -I /Users/geih/opt/anaconda3/envs/lfpy/include -o ./libnrnmech.dylib -Wl,-install_name,@rpath/libnrnmech.dylib \\\n",
      "\t  ./mod_func.o ./Cad.o ./HH_traub.o ./it2.o  -L/Users/geih/opt/anaconda3/envs/lfpy/lib -lnrniv -Wl,-rpath,/Users/geih/opt/anaconda3/envs/lfpy/lib    /Users/geih/opt/anaconda3/envs/lfpy/lib/libreadline.dylib /Users/geih/opt/anaconda3/envs/lfpy/lib/libncurses.dylib /Users/geih/opt/anaconda3/envs/lfpy/lib/libform.dylib /Users/geih/opt/anaconda3/envs/lfpy/lib/libmpi.dylib /Users/geih/opt/anaconda3/envs/lfpy/lib/libpmpi.dylib /Users/geih/opt/anaconda3/envs/lfpy/lib/libX11.dylib /Users/geih/opt/anaconda3/envs/lfpy/lib/libXext.dylib\n",
      "ld: warning: -pie being ignored. It is only used when linking a main executable\n",
      "rm -f ./.libs/libnrnmech.so ; mkdir -p ./.libs ; cp ./libnrnmech.dylib ./.libs/libnrnmech.so\n",
      "Successfully created x86_64/special\n"
     ]
    },
    {
     "name": "stderr",
     "output_type": "stream",
     "text": [
      "Warning: no DISPLAY environment variable.\n",
      "--No graphics will be displayed.\n"
     ]
    }
   ],
   "source": [
    "%matplotlib inline\n",
    "import os\n",
    "from os.path import join\n",
    "\n",
    "retval = os.getcwd()\n",
    "print(\"Current working directory %s\" % retval)\n",
    "os.chdir(\"halnes/\")\n",
    "!nrnivmodl\n",
    "os.chdir(retval)\n",
    "\n",
    "import numpy as np\n",
    "import pylab as plt\n",
    "import scipy.stats\n",
    "import neuron\n",
    "from neuron import h\n",
    "import LFPy\n",
    "\n",
    "np.random.seed(1234)"
   ]
  },
  {
   "cell_type": "code",
   "execution_count": 2,
   "metadata": {},
   "outputs": [
    {
     "data": {
      "text/plain": [
       "True"
      ]
     },
     "execution_count": 2,
     "metadata": {},
     "output_type": "execute_result"
    }
   ],
   "source": [
    "# load active ion channel mechanisms\n",
    "neuron.load_mechanisms(join(\"halnes\"))"
   ]
  },
  {
   "cell_type": "code",
   "execution_count": 3,
   "metadata": {},
   "outputs": [],
   "source": [
    "def active_conductances(cell, **kwargs):\n",
    "    rall = 113 # axial resistance\n",
    "    cap = 1.1 # membrane capacitance\n",
    "    Rm = 45000.0 # membrane resistance\n",
    "    Epas = -70.6\n",
    "    celsius = 36\n",
    "\n",
    "    ## INSERT ION CHANNELS:\n",
    "    for sec in cell.allseclist:\n",
    "        sec.insert(\"pas\")\n",
    "        sec.e_pas = Epas\n",
    "        sec.g_pas = 1/Rm\n",
    "        sec.Ra = rall\n",
    "        sec.cm = cap\n",
    "        sec.insert(\"Cad\")\n",
    "        sec.insert(\"it2\")\n",
    "        sec.insert(\"hh2\")\n",
    "        sec.ena = 50 # Reversal potential for sodium\n",
    "        sec.ek = -90 # Reversal potential for potassium\n",
    "\n",
    "     ##################################################################\n",
    "    # Channel densities\n",
    "    gna = kwargs[\"gna\"]  # S/cm2\n",
    "    gkdr = kwargs[\"gkdr\"]\n",
    "    gcat = kwargs[\"gcat\"]\n",
    "    \n",
    "    h.celsius = celsius\n",
    "    for sec in cell.allseclist:\n",
    "        if sec.name().rfind('soma') >= 0:\n",
    "            h.distance()\n",
    "            break\n",
    "\n",
    "    for sec in cell.allseclist:\n",
    "        sec.v = Epas\n",
    "        sec.e_pas = Epas\n",
    "        sec.insert(\"pas\")\n",
    "        sec.e_pas = Epas\n",
    "        sec.g_pas = 1/Rm\n",
    "        sec.Ra = rall\n",
    "        sec.cm = cap\n",
    "        sec.gnabar_hh2 = 0\n",
    "        sec.gkbar_hh2 = 0\n",
    "        for seg in sec:\n",
    "            seg.gcabar_it2 = gcat\n",
    "\n",
    "    for sec in cell.allseclist:\n",
    "        if sec.name().rfind('soma') >= 0:\n",
    "            sec.gnabar_hh2 = gna\n",
    "            sec.gkbar_hh2 = gkdr\n",
    "            seg.gcabar_it2 = gcat\n",
    "\n",
    "\n",
    "def return_interneuron(end_T, dt, start_T, v_init=-75., \n",
    "                       gna = 0.18, gkdr = 0.4, gcat = 1.e-4):\n",
    "\n",
    "    cell = LFPy.Cell(morphology=join(\"halnes\", \"Morf_default.hoc\"),\n",
    "                     dt=dt,\n",
    "                     tstart=start_T,\n",
    "                     tstop=end_T,\n",
    "                     nsegs_method='lambda_f',\n",
    "                     lambda_f=100,\n",
    "                     custom_fun=[active_conductances],\n",
    "                     custom_fun_args=[{'gna': gna, 'gkdr': gkdr, 'gcat': gcat}],\n",
    "                     )\n",
    "    return cell"
   ]
  },
  {
   "cell_type": "code",
   "execution_count": 4,
   "metadata": {},
   "outputs": [],
   "source": [
    "def insert_synapses(cell, weight, pos):\n",
    "    '''Insert synapses'''\n",
    "    \n",
    "    synapse_params = {\n",
    "        'idx': pos,\n",
    "        'e' : 0,                   #reversal potential\n",
    "        'syntype' : 'Exp2Syn',      #synapse type\n",
    "        'tau1' : 1,                 #syn time constant\n",
    "        'tau2' : 3,                 #syn time constant\n",
    "        'weight' : weight,           #syn weight\n",
    "        'record_current' : True    #syn current gets recorded\n",
    "    }\n",
    "\n",
    "    # Create synapse(s) and setting times using the Synapse class in LFPy\n",
    "    s = LFPy.Synapse(cell, **synapse_params)\n",
    "    s.set_spike_times(np.array([60.0]))\n",
    "    return s"
   ]
  },
  {
   "cell_type": "code",
   "execution_count": 5,
   "metadata": {},
   "outputs": [],
   "source": [
    "def plot_signal(cell, synapse, synpos):\n",
    "    \"\"\"\n",
    "    Plots the somatic membrane potential and somatic transmembrane currents (left), \n",
    "    as well as the cell morphology (center), and the extracellular potential (right).\n",
    "    \n",
    "    Parameters:\n",
    "    ===========\n",
    "    cell : LFPy.Cell object that contains the cell model. This function assumes that the cell simulation is finished\n",
    "    electrode: Electrode object from the LFPy class RecExtElectrode \n",
    "    \"\"\"\n",
    "    plt.close(\"all\")\n",
    "    cell_plot_idx = 0\n",
    "    fig = plt.figure(figsize=[9, 9])\n",
    "    fig.subplots_adjust(hspace=0.5)  # Adjusts the vertical distance between panels.\n",
    "    ax_cell = fig.add_subplot(122, aspect=1)\n",
    "    ax_cell.axis('off')\n",
    "    ipos = np.array([0, 65, 110, 128]) # Found by trial and error   \n",
    "    \n",
    "    ax_cell.plot(cell.x.T, cell.y.T, c='k')\n",
    "    \n",
    "    ax_cell.plot(cell.x.mean(axis=-1)[ipos[0]], cell.y.mean(axis=-1)[ipos[0]], '*', c='k', ms=14)\n",
    "    ax_cell.plot(cell.x.mean(axis=-1)[ipos[1]], cell.y.mean(axis=-1)[ipos[1]], '*', c='b', ms=14)\n",
    "    ax_cell.plot(cell.x.mean(axis=-1)[ipos[2]], cell.y.mean(axis=-1)[ipos[2]], '*', c='g', ms=14)\n",
    "    ax_cell.plot(cell.x.mean(axis=-1)[ipos[3]], cell.y.mean(axis=-1)[ipos[3]], '*', c='r', ms=14)\n",
    "    \n",
    "    if synpos == ipos[0]:\n",
    "        syncol = 'k'\n",
    "    elif synpos == ipos[1]:\n",
    "        syncol = 'b'\n",
    "    elif synpos == ipos[2]:\n",
    "        syncol = 'g'\n",
    "    elif synpos == ipos[3]:\n",
    "        syncol = 'r'\n",
    "    else:\n",
    "        syncol = 'm'\n",
    "\n",
    "    el, = ax_cell.plot(cell.x.mean(axis=-1)[synpos], cell.y.mean(axis=-1)[synpos], 'd', c=syncol, ms = 16)    \n",
    "    ax_cell.legend([el], [\"Synapse\"], frameon=False, loc=\"lower center\")\n",
    "\n",
    "    ax_v = fig.add_subplot(521, ylabel='mV')\n",
    "    ax_v.plot(cell.tvec, cell.somav, color='k', lw=2)\n",
    "    ax_v = fig.add_subplot(523, ylabel='mV')\n",
    "    ax_v.plot(cell.tvec, cell.vmem[ipos[1]], color='b', lw=2)\n",
    "    ax_v = fig.add_subplot(525, ylabel='mV')\n",
    "    ax_v.plot(cell.tvec, cell.vmem[ipos[2]], color='g', lw=2)\n",
    "    ax_v = fig.add_subplot(527, xlabel='Time [ms]', ylabel='mV')\n",
    "    ax_v.plot(cell.tvec, cell.vmem[ipos[3]], color='r', lw=2)\n",
    "    ax_v = fig.add_subplot(529, xlabel='Time [ms]', ylabel='nA')    \n",
    "    ax_v.plot(cell.tvec, synapse.i, color= syncol, lw=2)"
   ]
  },
  {
   "cell_type": "code",
   "execution_count": 6,
   "metadata": {},
   "outputs": [
    {
     "data": {
      "image/png": "[encoded data removed]",
      "text/plain": [
       "<Figure size 648x648 with 6 Axes>"
      ]
     },
     "metadata": {
      "needs_background": "light"
     },
     "output_type": "display_data"
    }
   ],
   "source": [
    "cell_name = \"halnes\"\n",
    "weight = 0.01\n",
    "somapos = 0\n",
    "distdendpos = 128\n",
    "closedendpos = 65\n",
    "fardendpos = 110\n",
    "syn_pos = somapos\n",
    "\n",
    "cell_folder = join(cell_name)\n",
    "\n",
    "end_T = 200\n",
    "dt = 2**-5\n",
    "start_T = -200\n",
    "cell = return_interneuron(end_T, dt, start_T, gna=0.22, gkdr=0.3, gcat=1e-4)\n",
    "\n",
    "synapse = insert_synapses(cell, weight=weight, pos=syn_pos)\n",
    "cell.simulate(rec_imem=False, rec_vmem=True)\n",
    "\n",
    "cell.strip_hoc_objects()  # fix crashing kernels with neuron.__version__ >= 7.8\n",
    "\n",
    "plot_signal(cell, synapse, syn_pos)\n",
    "#plt.savefig(\"cell_hbp_%s.png\" % cell_name)"
   ]
  },
  {
   "cell_type": "markdown",
   "metadata": {},
   "source": [
    "## 4) Optional: Dendritic Na⁺ and K⁺ channels\n",
    "Presumingly, your simulations in 1) showed that action potentials (evoked in the soma) only gave rise to small voltage deflections in the tip of the dendrite. Conversely, experiments have shown that the action potential shape and amplitude are fairly well preserved when they propagate from the soma to the distal dendrites in these interneurons (Casale et al., 2011, Journal of Neuroscience, 31(50):18289–18302). This indicates that not only the soma, but also the dendrites contain a nonzero density of Na⁺ and K⁺ channels.\n",
    "\n",
    "__a)__ Insert Na⁺ and K⁺ channels (with some density/conductance) in the dendrites, and see if you can can make the model account for this observation.\n",
    "\n",
    "__b)__ How is the response to a synaptic input when you have the dendritic Na⁺ and K⁺ conductances that you found above?"
   ]
  },
  {
   "cell_type": "code",
   "execution_count": null,
   "metadata": {},
   "outputs": [],
   "source": []
  },
  {
   "cell_type": "code",
   "execution_count": null,
   "metadata": {},
   "outputs": [],
   "source": []
  }
 ],
 "metadata": {
  "kernelspec": {
   "display_name": "EBRAINS-24.04",
   "language": "python",
   "name": "ebrains-24.04"
  },
  "language_info": {
   "codemirror_mode": {
    "name": "ipython",
    "version": 3
   },
   "file_extension": ".py",
   "mimetype": "text/x-python",
   "name": "python",
   "nbconvert_exporter": "python",
   "pygments_lexer": "ipython3",
   "version": "3.8.11"
  }
 },
 "nbformat": 4,
 "nbformat_minor": 4
}
