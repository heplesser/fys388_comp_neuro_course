{
 "cells": [
  {
   "cell_type": "markdown",
   "metadata": {},
   "source": [
    "# Exercise 7: Active ion channels and a small network\n",
    "\n",
    "The dynamical properties of a neuron is primarilly determined by the kinds of ion channels that it possesses, and how much it possesses of each kind. Even if two different neurons have the same set of ion channels, they may have quite different dynamical properties because some ion channels may be more abundant in one cell than in the other. In this exercise, you will work with a single compartment model with six different ion channels:\n",
    "\n",
    "* $I_{Na}$: Hodgik-Huxley-like sodium channel for action potential upstroke (conductance parameter $gna$).\n",
    "* $I_{Kdr}$: Hodgik-Huxley-like potassium channel for action potential downstroke (conductance parameter $gkdr$).\n",
    "* $I_{T}$: Low-voltage-activated calcium channel (conductance parameter $gcat$).\n",
    "* $I_{L}$: High-voltage-activated calcium channel (conductance parameter $gcal$).\n",
    "* $I_{AHP}$: Calcium-activated potassium channel causing afterhyperolarization (conductance parameter $gahp$).\n",
    "* $I_{h}$: Hyperpolarization activated general cation channel (conductance parameter $ghbar$).\n",
    "\n",
    "The ion channels were taken from a model of a thalamic interneuron, and if you are interested, you can read more about them there (Halnes et al. 2011: PLoS Comput Biol 7(9): e1002160. https://doi.org/10.1371/journal.pcbi.1002160). Some of the responses that this set of ion channels can generate are shown in Figure 1. One of the ion channels, $I_{AHP}$, is not activated by voltage, but by calcium that enters through the two calcium channels $I_{L}$ and $I_{T}$. The model thus also keeps track of the intracellular calcium concentration. As concentration changes are typically slower than voltage changes, this gives the neuron a quite rich repetoire of firing properties and allows for both faster (action potentials) and slower (calcium dependent) oscillations in the membrane potential."
   ]
  },
  {
   "cell_type": "markdown",
   "metadata": {
    "collapsed": true
   },
   "source": [
    "<img src=\"Firingpatterns.png\" width = \"600\">\n",
    "__Figure 1:__ Firing patterns in various neurons responding to step current injection (+ 20 pA in __A__-__F__, and -20 pA in __G__-__H__). __A:__ Initial burst followed by regular AP firing. __B:__ Periodic bursting. __C:__ Initial AP followed by oscillations (called calcium oscillations, since they depend on calcium channels). __D:__ Regular AP firing. __E:__ Regular AP-firing with strong, sharp afterhyperpolarization. __F:__ Regular AP-firing with strong, smoother afterhyperpolarization. __G:__ Hyperpolarizing input produces an initial sag in the membrane potential. __H:__ When released from hyperpolarization, the neuron fires a so-called rebound burst."
   ]
  },
  {
   "cell_type": "markdown",
   "metadata": {},
   "source": [
    "## Exercise 7.1: Firing properties of the single compartment model\n",
    "In the code below (based on Neuron and Python), you are given a template for the single compartment neuron with a set of ion channels, with parameters (maximum conductances) set so that the neuron fires as in Fig. 2 (similar voltage dynamics as in Figure 1A). Your task is to vary the conductances of the different ion channels in order to explore which of them that give rise to the different aspects of the neuron´s response. Try to reproduce all the different firing patterns in Figure 1 (for the same stimulus injections, $\\pm$ 20 pA).\n",
    "\n",
    "<img src=\"Default.png\" width = \"600\">\n",
    "__Figure 2:__ Voltage and calcium dynamics in the default version of the model.\n",
    "\n",
    "__a)__ As a starting point, turn off the stimulus. What is the resting potential of the neuron? Does any of the active conductances affect the resting potential? What does that mean?\n",
    "\n",
    "__b)__ In Fig. 1A the neurons responds to the input current by an initial burst followed by regular AP firing. Which ion channel causes the initial burst?\n",
    "\n",
    "__c)__ Which ion channel(s) do you need to modify to make the neuron burt periodically (Fig. 1B)? Try to describe the mechanisms that underlie periodic bursting.\n",
    "\n",
    "__d)__ In Fig. 1C the neuron elicits an initial AP, followed by voltage fluctuations that are not action potentials. What ion channel(s) produce this oscillation?\n",
    "\n",
    "__e)__ Can you make the neuron fire regular as in Fig. 1D? Which ion channels can you vary to alter the firing rate of the neuron without affecting the qualitative behavior too much (e.g. without introducing bursting)?\n",
    "\n",
    "__f)__ In Fig. 1E and Fig. 1F, APs are followed by a quite strong afterhyperpolarization (negative voltage peak). In Fig. 1E the afterhyperpolarization is sharp, while in Fig. 1F it is smoother. Can you determine which ion channels that produce such sharp versus smooth afterhyperpolarizations?\n",
    "\n",
    "__g)__ The neuron in Fig. 1G is exposed to a hyperpolarizing current injection (- 20 pA). The response is an inital deep sag in the membrane potential, before the neuron (still during stimulus) settles on a somewhat less hyperpolarized voltage level. What ion channel causes this initial sag (or rather, the picks it up from it)?\n",
    "\n",
    "__h)__ When the neuron in Fig. 1G and 1F are released from the hyperpolarizing input, the membrane potential also makes a little overshoot before it settles on the resting potential. Which ion channel causes this overshoot?\n",
    "\n",
    "__i)__ When the neuron in Fig. 1F is released from hyperpolarization, the overshoot is large enough to evoke a burst of action potentials, known as a rebound burst. In addition to $I_{Na}$ and $I_{Kdr}$ for AP-generation, two ion channels are needed to produce such rebound bursts. Which two?"
   ]
  },
  {
   "cell_type": "code",
   "execution_count": null,
   "metadata": {},
   "outputs": [],
   "source": [
    "%pylab notebook\n",
    "!nrnivmodl\n",
    "from neuron import h, load_mechanisms\n",
    "from numpy import trapz\n",
    "import matplotlib.cm as cm"
   ]
  },
  {
   "cell_type": "code",
   "execution_count": null,
   "metadata": {},
   "outputs": [],
   "source": [
    "class Mymodel(object): # Template for defining a cell model\n",
    "    # Creates neuron model\n",
    "    def __init__(self,gna,gkdr,gahp,gcat,gcal,ghbar):\n",
    "        self.create_cell()\n",
    "        self.define_geometry()\n",
    "        self.define_biophysics(gna,gkdr,gahp,gcat,gcal,ghbar)\n",
    "        h.celsius = 36\n",
    "    def create_cell(self):\n",
    "        self.soma = h.Section(name='soma', cell=self)\n",
    "    def define_geometry(self):\n",
    "        self.soma.L = self.soma.diam = 20     # microns\n",
    "        h.define_shape() # Translate into 3D points.\n",
    "    def define_biophysics(self,\n",
    "                 gna = 0.01, \n",
    "                 gkdr = 0.01, \n",
    "                 gahp = 5e-5, \n",
    "                 gcat = 2e-4, \n",
    "                 gcal = 0.0009, \n",
    "                 hhbar = 0.00005):\n",
    "        # Passive properties\n",
    "        rall = 200 # axial resistance\n",
    "        cap = 1.1 # membrane capacitance\n",
    "        Rm = 45000.0 # membrane resistance\n",
    "        Epas = -80 \n",
    "        nash = - 52.6\n",
    "        kdrsh = -51.2\n",
    "        catau = 50\n",
    "        \n",
    "        self.soma.insert('pas')\n",
    "        self.soma.e_pas = Epas\n",
    "        self.soma.g_pas = 1/Rm\n",
    "        self.soma.cm = cap\n",
    "        self.soma.insert(\"iar\")\n",
    "        self.soma.insert(\"hh2\")\n",
    "        self.soma.insert(\"Cad\")\n",
    "        self.soma.insert(\"it2\")\n",
    "        self.soma.insert(\"ical\")\n",
    "        self.soma.insert(\"iahp\")\n",
    "        self.soma.ena = 50 # Reversal potential for sodium\n",
    "        self.soma.ek = -90 # Reversal potential for potassium \n",
    "        self.soma.gnabar_hh2 = gna\n",
    "        self.soma.gkbar_hh2 = gkdr\n",
    "        self.soma.gcabar_it2 = gcat\n",
    "        self.soma.vtraubNa_hh2 = nash \n",
    "        self.soma.vtraubK_hh2 = kdrsh\n",
    "        self.soma.pcabar_ical = gcal\n",
    "        self.soma.gkbar_iahp = gahp\n",
    "        self.soma.ghbar_iar = ghbar"
   ]
  },
  {
   "cell_type": "code",
   "execution_count": null,
   "metadata": {},
   "outputs": [],
   "source": [
    "# Functions that controls what to record and how to plot (t and Vm and Ca++)\n",
    "def set_recording_vectors(cell):\n",
    "    soma_v_vec = h.Vector()   # Membrane potential vector at soma\n",
    "    soma_ca_vec = h.Vector()   # Membrane potential vector at soma\n",
    "    t_vec = h.Vector()        # Time stamp vector\n",
    "    soma_v_vec.record(cell.soma(0.5)._ref_v)\n",
    "    soma_ca_vec.record(cell.soma(0.5)._ref_Cai)\n",
    "    t_vec.record(h._ref_t)\n",
    "    return soma_v_vec, soma_ca_vec, t_vec\n",
    "\n",
    "# Function that runs simulation\n",
    "def simulate(tstop=2000):\n",
    "    h.tstop = tstop\n",
    "    h.run()\n",
    "\n",
    "# Function that plots output\n",
    "def show_output(soma_v_vec,soma_ca_vec, t_vec, new_fig=True):\n",
    "    if new_fig:\n",
    "        pyplot.figure(figsize=(10,4)) # Default figsize is (8,6)\n",
    "    vax = pyplot.subplot(121)\n",
    "    pyplot.title('Voltage')\n",
    "    pyplot.xlabel('time (ms)')\n",
    "    pyplot.ylabel('mV')\n",
    "    cax = pyplot.subplot(122)\n",
    "    pyplot.xlabel('time (ms)')\n",
    "    pyplot.ylabel('mM')\n",
    "    pyplot.title('Calcium')\n",
    "    vax.plot(t_vec, soma_v_vec, color='black')\n",
    "    cax.plot(t_vec, soma_ca_vec, color='black')\n",
    "    pyplot.subplots_adjust(wspace = 0.3) "
   ]
  },
  {
   "cell_type": "code",
   "execution_count": null,
   "metadata": {},
   "outputs": [],
   "source": [
    "# Channel densities\n",
    "gna =  0.01 # S/cm2\n",
    "gkdr = 0.01\n",
    "gahp = 5e-5\n",
    "gcat= 2e-4\n",
    "gcal=0.0009\n",
    "ghbar=0.00005\n",
    "\n",
    "# Create model with the above parameters\n",
    "cell = Mymodel(gna,gkdr,gahp,gcat,gcal,ghbar)\n",
    "\n",
    "h.load_file('stdrun.hoc')\n",
    "stim = h.IClamp(cell.soma(0.5))\n",
    "stim.delay = 500\n",
    "stim.dur = 1000\n",
    "stim.amp = 0.02\n",
    "\n",
    "soma_v_vec, soma_ca_vec, t_vec = set_recording_vectors(cell)\n",
    "simulate()\n",
    "show_output(soma_v_vec, soma_ca_vec, t_vec)\n",
    "pyplot.show()"
   ]
  },
  {
   "cell_type": "markdown",
   "metadata": {},
   "source": [
    "## Exercise 7.2: A small ring-network of spiking neurons\n",
    "The neuron model in Exercise 7.1 was build inside of a class, which allows you to make arbitrarily many copies of it by calling e.g., \n",
    "\n",
    "<code>\n",
    "for i in range(N):\n",
    "    nwcell = Mymodel(gna,gkdr,gahp,gcat,gcal,ghbar)\n",
    "    cells.append(nwcell)\n",
    "</code>\n",
    "\n",
    "In Exercise 7.2 you will use the template to construct a small ring-network of $N=5$ neurons, as depicted in Fig. 2. This network is asimplified version of the ring-network presented in the neuron/python-tutorial on the neuron homepage, and you could follow this example rather closely to acchieve your task:\n",
    "\n",
    "https://neuron.yale.edu/neuron/docs/ball-and-stick-model-part-1\n",
    "\n",
    "https://neuron.yale.edu/neuron/docs/ball-and-stick-model-part-2\n",
    "\n",
    "\n",
    "In your case, you will use single-compartment neurons (not ball-and-stick as on the home-page). For simplicity, you can omit the specification of spatial coorditates that are used in the online-tutorial, i.e., you can simply connect the neurons 1-2-3-4-5-1 without specifying any coordinates. The tasks are:\n",
    "\n",
    "__a)__ Use the original parameterization of the model (same for all five neurons) and construct the ring network.\n",
    "\n",
    "__b)__ Give an external synaptic input to one of the neurons (blue synapse in Fig. 2) and make it sufficiently strong to evoke firing the receiving neuron.\n",
    "\n",
    "__c)__ Let $w$ be the weight of the network connections (red synapses in Fig. 2). Let all connections have the same $w$, and find the ranges of $w$ that are so that:\n",
    "* __c1)__ A triggered spike in neuron 1 does not give spiking in any other cell in the network.\n",
    "* __c2)__ triggered spike in neuron 1 starts a network activity that goes on forever.\n",
    "* __c3)__ A triggered spike in neuron 1 propagates through the network, but the network activity eventually dies out.\n",
    "    \n",
    "__d)__ Can you give an explanation to why the latter case (c3) exists? How can it be that the network activity can propagate through the entire network but still die out? Why doesn't it go round and round forever in an infinite loop?\n",
    "\n",
    "__e)__ If you feel up for it, change some of the conductances at the simple neuron level, and exlpore how this affects the ranges of $w$ that you found above."
   ]
  },
  {
   "cell_type": "markdown",
   "metadata": {},
   "source": [
    "<img src=\"Ringnetwork.png\" width = \"300\">\n",
    "__Figure 2:__ Sketch of a ring network where one neuron (1) is triggered by an external synaptic input."
   ]
  },
  {
   "cell_type": "code",
   "execution_count": null,
   "metadata": {},
   "outputs": [],
   "source": []
  }
 ],
 "metadata": {
  "kernelspec": {
   "display_name": "Python 3 (ipykernel)",
   "language": "python",
   "name": "python3"
  },
  "language_info": {
   "codemirror_mode": {
    "name": "ipython",
    "version": 3
   },
   "file_extension": ".py",
   "mimetype": "text/x-python",
   "name": "python",
   "nbconvert_exporter": "python",
   "pygments_lexer": "ipython3",
   "version": "3.9.7"
  }
 },
 "nbformat": 4,
 "nbformat_minor": 2
}
